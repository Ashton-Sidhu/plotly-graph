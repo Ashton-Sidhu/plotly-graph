{
 "cells": [
  {
   "cell_type": "code",
   "execution_count": 1,
   "metadata": {},
   "outputs": [],
   "source": [
    "import networkx as nx\n",
    "import igviz as ig"
   ]
  },
  {
   "cell_type": "code",
   "execution_count": 2,
   "metadata": {},
   "outputs": [],
   "source": [
    "def createDiGraph():\n",
    "    # Create a directed graph (digraph) object; i.e., a graph in which the edges\n",
    "    # have a direction associated with them.\n",
    "    G = nx.DiGraph()\n",
    "\n",
    "    # Add nodes:\n",
    "    nodes = ['A', 'B', 'C', 'D', 'E']\n",
    "    G.add_nodes_from(nodes)\n",
    "\n",
    "    # Add edges or links between the nodes:\n",
    "    edges = [('A','B'), ('B','C'), ('B', 'D'), ('D', 'E')]\n",
    "    G.add_edges_from(edges)\n",
    "    return G\n",
    "\n",
    "DG = createDiGraph()"
   ]
  },
  {
   "cell_type": "code",
   "execution_count": 3,
   "metadata": {},
   "outputs": [
    {
     "data": {
      "application/vnd.jupyter.widget-view+json": {
       "model_id": "3a2586353f1142e193ac7789896064f7",
       "version_major": 2,
       "version_minor": 0
      },
      "text/plain": [
       "FigureWidget({\n",
       "    'data': [{'hoverinfo': 'text',\n",
       "              'line': {'color': '#888', 'width': 2},\n",
       "       …"
      ]
     },
     "metadata": {},
     "output_type": "display_data"
    }
   ],
   "source": [
    "ig.plot(DG, size_method=\"static\")"
   ]
  },
  {
   "cell_type": "code",
   "execution_count": null,
   "metadata": {},
   "outputs": [],
   "source": []
  }
 ],
 "metadata": {
  "kernelspec": {
   "display_name": "Python 3 (ipykernel)",
   "language": "python",
   "name": "python3"
  },
  "language_info": {
   "codemirror_mode": {
    "name": "ipython",
    "version": 3
   },
   "file_extension": ".py",
   "mimetype": "text/x-python",
   "name": "python",
   "nbconvert_exporter": "python",
   "pygments_lexer": "ipython3",
   "version": "3.10.6"
  },
  "vscode": {
   "interpreter": {
    "hash": "f78b8d2354e446a3fbd21efd0467c217c8ad305176f08b264011e910065d3468"
   }
  }
 },
 "nbformat": 4,
 "nbformat_minor": 4
}
