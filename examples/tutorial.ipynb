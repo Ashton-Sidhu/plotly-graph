{
 "cells": [
  {
   "cell_type": "code",
   "execution_count": 1,
   "metadata": {},
   "outputs": [],
   "source": [
    "import networkx as nx\n",
    "import igviz as ig"
   ]
  },
  {
   "cell_type": "code",
   "execution_count": 2,
   "metadata": {},
   "outputs": [],
   "source": [
    "G = nx.random_geometric_graph(200, 0.125)\n",
    "nx.set_node_attributes(G, 12, \"prop\")"
   ]
  },
  {
   "cell_type": "code",
   "execution_count": 3,
   "metadata": {},
   "outputs": [
    {
     "data": {
      "application/vnd.jupyter.widget-view+json": {
       "model_id": "a697098e2f514a03ad6d6c6450929d33",
       "version_major": 2,
       "version_minor": 0
      },
      "text/plain": [
       "FigureWidget({\n",
       "    'data': [{'hoverinfo': 'text',\n",
       "              'line': {'color': '#888', 'width': 2},\n",
       "       …"
      ]
     },
     "metadata": {},
     "output_type": "display_data"
    }
   ],
   "source": [
    "ig.plot(G)"
   ]
  },
  {
   "cell_type": "code",
   "execution_count": 4,
   "metadata": {},
   "outputs": [
    {
     "data": {
      "application/vnd.jupyter.widget-view+json": {
       "model_id": "73e8a2289a654dd3841afb10c792e298",
       "version_major": 2,
       "version_minor": 0
      },
      "text/plain": [
       "FigureWidget({\n",
       "    'data': [{'hoverinfo': 'text',\n",
       "              'line': {'color': '#888', 'width': 2},\n",
       "       …"
      ]
     },
     "metadata": {},
     "output_type": "display_data"
    }
   ],
   "source": [
    "ig.plot(\n",
    "    G, # Your graph\n",
    "    title=\"My Graph\",\n",
    "    size_method=\"static\", # Makes node sizes the same\n",
    "    color_method=\"#ffcccb\", # Makes all the node colours black,\n",
    "    node_text=[\"prop\"], # Adds the 'prop' property to the hover text of the node\n",
    "    annotation_text=\"Visualization made by <a href='https://github.com/Ashton-Sidhu/plotly-graph'>igviz</a> & plotly.\", # Adds a text annotation to the graph\n",
    ")"
   ]
  },
  {
   "cell_type": "code",
   "execution_count": 5,
   "metadata": {},
   "outputs": [
    {
     "data": {
      "application/vnd.jupyter.widget-view+json": {
       "model_id": "b508627dc97c453490bbb30ef0f061a7",
       "version_major": 2,
       "version_minor": 0
      },
      "text/plain": [
       "FigureWidget({\n",
       "    'data': [{'hoverinfo': 'text',\n",
       "              'line': {'color': '#888', 'width': 2},\n",
       "       …"
      ]
     },
     "metadata": {},
     "output_type": "display_data"
    }
   ],
   "source": [
    "ig.plot(\n",
    "    G,\n",
    "    title=\"My Graph\",\n",
    "    size_method=\"prop\", # Makes node sizes the size of the \"prop\" property\n",
    "    color_method=\"prop\", # Colors the nodes based off the \"prop\" property and a color scale,\n",
    "    node_text=[\"prop\"], # Adds the 'prop' property to the hover text of the node\n",
    ")"
   ]
  },
  {
   "cell_type": "code",
   "execution_count": 6,
   "metadata": {},
   "outputs": [
    {
     "data": {
      "application/vnd.jupyter.widget-view+json": {
       "model_id": "2c0e3ed777e94e848b54d9325ea22515",
       "version_major": 2,
       "version_minor": 0
      },
      "text/plain": [
       "FigureWidget({\n",
       "    'data': [{'hoverinfo': 'text',\n",
       "              'line': {'color': '#888', 'width': 2},\n",
       "       …"
      ]
     },
     "metadata": {},
     "output_type": "display_data"
    }
   ],
   "source": [
    "color_list = []\n",
    "sizing_list = []\n",
    "\n",
    "for node in G.nodes():\n",
    "    size_and_color = G.degree(node) * 3\n",
    "\n",
    "    color_list.append(size_and_color)\n",
    "    sizing_list.append(size_and_color)\n",
    "\n",
    "ig.plot(\n",
    "    G,\n",
    "    title=\"My Graph\",\n",
    "    size_method=sizing_list, # Makes node sizes the size of the \"prop\" property\n",
    "    color_method=color_list, # Colors the nodes based off the \"prop\" property and a color scale,\n",
    "    node_text=[\"prop\"], # Adds the 'prop' property to the hover text of the node\n",
    ")"
   ]
  },
  {
   "cell_type": "code",
   "execution_count": 7,
   "metadata": {},
   "outputs": [
    {
     "data": {
      "application/vnd.jupyter.widget-view+json": {
       "model_id": "a02ac28b7d7d4af9ac02c8af4a2fc7bc",
       "version_major": 2,
       "version_minor": 0
      },
      "text/plain": [
       "FigureWidget({\n",
       "    'data': [{'hoverinfo': 'text',\n",
       "              'line': {'color': '#888', 'width': 2},\n",
       "       …"
      ]
     },
     "metadata": {},
     "output_type": "display_data"
    }
   ],
   "source": [
    "ig.plot(\n",
    "    G,\n",
    "    title=\"My Graph\",\n",
    "    layout=\"kamada\"\n",
    ")"
   ]
  },
  {
   "cell_type": "code",
   "execution_count": null,
   "metadata": {},
   "outputs": [],
   "source": []
  }
 ],
 "metadata": {
  "file_extension": ".py",
  "kernelspec": {
   "display_name": "Python 3 (ipykernel)",
   "language": "python",
   "name": "python3"
  },
  "language_info": {
   "codemirror_mode": {
    "name": "ipython",
    "version": 3
   },
   "file_extension": ".py",
   "mimetype": "text/x-python",
   "name": "python",
   "nbconvert_exporter": "python",
   "pygments_lexer": "ipython3",
   "version": "3.10.6"
  },
  "mimetype": "text/x-python",
  "name": "python",
  "npconvert_exporter": "python",
  "pygments_lexer": "ipython3",
  "version": 3,
  "vscode": {
   "interpreter": {
    "hash": "f78b8d2354e446a3fbd21efd0467c217c8ad305176f08b264011e910065d3468"
   }
  }
 },
 "nbformat": 4,
 "nbformat_minor": 2
}
