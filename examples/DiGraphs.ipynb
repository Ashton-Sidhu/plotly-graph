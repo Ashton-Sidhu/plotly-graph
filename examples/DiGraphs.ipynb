{
 "cells": [
  {
   "cell_type": "code",
   "execution_count": 1,
   "metadata": {},
   "outputs": [],
   "source": [
    "import networkx as nx\n",
    "import igviz as ig"
   ]
  },
  {
   "cell_type": "code",
   "execution_count": 2,
   "metadata": {},
   "outputs": [],
   "source": [
    "def createDiGraph():\n",
    "    # Create a directed graph (digraph) object; i.e., a graph in which the edges\n",
    "    # have a direction associated with them.\n",
    "    G = nx.DiGraph()\n",
    "\n",
    "    # Add nodes:\n",
    "    nodes = ['A', 'B', 'C', 'D', 'E']\n",
    "    G.add_nodes_from(nodes)\n",
    "\n",
    "    # Add edges or links between the nodes:\n",
    "    edges = [('A','B'), ('B','C'), ('B', 'D'), ('D', 'E')]\n",
    "    G.add_edges_from(edges)\n",
    "    return G\n",
    "\n",
    "DG = createDiGraph()"
   ]
  },
  {
   "cell_type": "code",
   "execution_count": 3,
   "metadata": {},
   "outputs": [
    {
     "data": {
      "application/vnd.jupyter.widget-view+json": {
       "model_id": "c98bfff6c6664e67b4b9e099319e420c",
       "version_major": 2,
       "version_minor": 0
      },
      "text/plain": [
       "FigureWidget({\n",
       "    'data': [{'hoverinfo': 'text',\n",
       "              'line': {'color': '#888', 'width': 2},\n",
       "       …"
      ]
     },
     "metadata": {},
     "output_type": "display_data"
    },
    {
     "ename": "NetworkXError",
     "evalue": "The node 2 is not in the digraph.",
     "output_type": "error",
     "traceback": [
      "\u001b[0;31m---------------------------------------------------------------------------\u001b[0m",
      "\u001b[0;31mKeyError\u001b[0m                                  Traceback (most recent call last)",
      "File \u001b[0;32m~/Library/Caches/pypoetry/virtualenvs/igviz-EetCYrty-py3.10/lib/python3.10/site-packages/networkx/classes/digraph.py:854\u001b[0m, in \u001b[0;36mDiGraph.successors\u001b[0;34m(self, n)\u001b[0m\n\u001b[1;32m    853\u001b[0m \u001b[39mtry\u001b[39;00m:\n\u001b[0;32m--> 854\u001b[0m     \u001b[39mreturn\u001b[39;00m \u001b[39miter\u001b[39m(\u001b[39mself\u001b[39;49m\u001b[39m.\u001b[39;49m_succ[n])\n\u001b[1;32m    855\u001b[0m \u001b[39mexcept\u001b[39;00m \u001b[39mKeyError\u001b[39;00m \u001b[39mas\u001b[39;00m err:\n",
      "\u001b[0;31mKeyError\u001b[0m: 2",
      "\nThe above exception was the direct cause of the following exception:\n",
      "\u001b[0;31mNetworkXError\u001b[0m                             Traceback (most recent call last)",
      "File \u001b[0;32m~/Library/Caches/pypoetry/virtualenvs/igviz-EetCYrty-py3.10/lib/python3.10/site-packages/ipywidgets/widgets/widget.py:756\u001b[0m, in \u001b[0;36mWidget._handle_msg\u001b[0;34m(self, msg)\u001b[0m\n\u001b[1;32m    754\u001b[0m         \u001b[39mif\u001b[39;00m \u001b[39m'\u001b[39m\u001b[39mbuffer_paths\u001b[39m\u001b[39m'\u001b[39m \u001b[39min\u001b[39;00m data:\n\u001b[1;32m    755\u001b[0m             _put_buffers(state, data[\u001b[39m'\u001b[39m\u001b[39mbuffer_paths\u001b[39m\u001b[39m'\u001b[39m], msg[\u001b[39m'\u001b[39m\u001b[39mbuffers\u001b[39m\u001b[39m'\u001b[39m])\n\u001b[0;32m--> 756\u001b[0m         \u001b[39mself\u001b[39;49m\u001b[39m.\u001b[39;49mset_state(state)\n\u001b[1;32m    758\u001b[0m \u001b[39m# Handle a state request.\u001b[39;00m\n\u001b[1;32m    759\u001b[0m \u001b[39melif\u001b[39;00m method \u001b[39m==\u001b[39m \u001b[39m'\u001b[39m\u001b[39mrequest_state\u001b[39m\u001b[39m'\u001b[39m:\n",
      "File \u001b[0;32m~/Library/Caches/pypoetry/virtualenvs/igviz-EetCYrty-py3.10/lib/python3.10/site-packages/ipywidgets/widgets/widget.py:620\u001b[0m, in \u001b[0;36mWidget.set_state\u001b[0;34m(self, sync_data)\u001b[0m\n\u001b[1;32m    615\u001b[0m         \u001b[39mself\u001b[39m\u001b[39m.\u001b[39m_send(msg, buffers\u001b[39m=\u001b[39mecho_buffers)\n\u001b[1;32m    617\u001b[0m \u001b[39m# The order of these context managers is important. Properties must\u001b[39;00m\n\u001b[1;32m    618\u001b[0m \u001b[39m# be locked when the hold_trait_notification context manager is\u001b[39;00m\n\u001b[1;32m    619\u001b[0m \u001b[39m# released and notifications are fired.\u001b[39;00m\n\u001b[0;32m--> 620\u001b[0m \u001b[39mwith\u001b[39;00m \u001b[39mself\u001b[39m\u001b[39m.\u001b[39m_lock_property(\u001b[39m*\u001b[39m\u001b[39m*\u001b[39msync_data), \u001b[39mself\u001b[39m\u001b[39m.\u001b[39mhold_trait_notifications():\n\u001b[1;32m    621\u001b[0m     \u001b[39mfor\u001b[39;00m name \u001b[39min\u001b[39;00m sync_data:\n\u001b[1;32m    622\u001b[0m         \u001b[39mif\u001b[39;00m name \u001b[39min\u001b[39;00m \u001b[39mself\u001b[39m\u001b[39m.\u001b[39mkeys:\n",
      "File \u001b[0;32m/Library/Frameworks/Python.framework/Versions/3.10/lib/python3.10/contextlib.py:142\u001b[0m, in \u001b[0;36m_GeneratorContextManager.__exit__\u001b[0;34m(self, typ, value, traceback)\u001b[0m\n\u001b[1;32m    140\u001b[0m \u001b[39mif\u001b[39;00m typ \u001b[39mis\u001b[39;00m \u001b[39mNone\u001b[39;00m:\n\u001b[1;32m    141\u001b[0m     \u001b[39mtry\u001b[39;00m:\n\u001b[0;32m--> 142\u001b[0m         \u001b[39mnext\u001b[39;49m(\u001b[39mself\u001b[39;49m\u001b[39m.\u001b[39;49mgen)\n\u001b[1;32m    143\u001b[0m     \u001b[39mexcept\u001b[39;00m \u001b[39mStopIteration\u001b[39;00m:\n\u001b[1;32m    144\u001b[0m         \u001b[39mreturn\u001b[39;00m \u001b[39mFalse\u001b[39;00m\n",
      "File \u001b[0;32m~/Library/Caches/pypoetry/virtualenvs/igviz-EetCYrty-py3.10/lib/python3.10/site-packages/traitlets/traitlets.py:1371\u001b[0m, in \u001b[0;36mHasTraits.hold_trait_notifications\u001b[0;34m(self)\u001b[0m\n\u001b[1;32m   1369\u001b[0m \u001b[39mfor\u001b[39;00m changes \u001b[39min\u001b[39;00m cache\u001b[39m.\u001b[39mvalues():\n\u001b[1;32m   1370\u001b[0m     \u001b[39mfor\u001b[39;00m change \u001b[39min\u001b[39;00m changes:\n\u001b[0;32m-> 1371\u001b[0m         \u001b[39mself\u001b[39;49m\u001b[39m.\u001b[39;49mnotify_change(change)\n",
      "File \u001b[0;32m~/Library/Caches/pypoetry/virtualenvs/igviz-EetCYrty-py3.10/lib/python3.10/site-packages/ipywidgets/widgets/widget.py:686\u001b[0m, in \u001b[0;36mWidget.notify_change\u001b[0;34m(self, change)\u001b[0m\n\u001b[1;32m    683\u001b[0m     \u001b[39mif\u001b[39;00m name \u001b[39min\u001b[39;00m \u001b[39mself\u001b[39m\u001b[39m.\u001b[39mkeys \u001b[39mand\u001b[39;00m \u001b[39mself\u001b[39m\u001b[39m.\u001b[39m_should_send_property(name, \u001b[39mgetattr\u001b[39m(\u001b[39mself\u001b[39m, name)):\n\u001b[1;32m    684\u001b[0m         \u001b[39m# Send new state to front-end\u001b[39;00m\n\u001b[1;32m    685\u001b[0m         \u001b[39mself\u001b[39m\u001b[39m.\u001b[39msend_state(key\u001b[39m=\u001b[39mname)\n\u001b[0;32m--> 686\u001b[0m \u001b[39msuper\u001b[39;49m(Widget, \u001b[39mself\u001b[39;49m)\u001b[39m.\u001b[39;49mnotify_change(change)\n",
      "File \u001b[0;32m~/Library/Caches/pypoetry/virtualenvs/igviz-EetCYrty-py3.10/lib/python3.10/site-packages/traitlets/traitlets.py:1386\u001b[0m, in \u001b[0;36mHasTraits.notify_change\u001b[0;34m(self, change)\u001b[0m\n\u001b[1;32m   1384\u001b[0m \u001b[39mdef\u001b[39;00m \u001b[39mnotify_change\u001b[39m(\u001b[39mself\u001b[39m, change):\n\u001b[1;32m   1385\u001b[0m     \u001b[39m\"\"\"Notify observers of a change event\"\"\"\u001b[39;00m\n\u001b[0;32m-> 1386\u001b[0m     \u001b[39mreturn\u001b[39;00m \u001b[39mself\u001b[39;49m\u001b[39m.\u001b[39;49m_notify_observers(change)\n",
      "File \u001b[0;32m~/Library/Caches/pypoetry/virtualenvs/igviz-EetCYrty-py3.10/lib/python3.10/site-packages/traitlets/traitlets.py:1431\u001b[0m, in \u001b[0;36mHasTraits._notify_observers\u001b[0;34m(self, event)\u001b[0m\n\u001b[1;32m   1428\u001b[0m \u001b[39melif\u001b[39;00m \u001b[39misinstance\u001b[39m(c, EventHandler) \u001b[39mand\u001b[39;00m c\u001b[39m.\u001b[39mname \u001b[39mis\u001b[39;00m \u001b[39mnot\u001b[39;00m \u001b[39mNone\u001b[39;00m:\n\u001b[1;32m   1429\u001b[0m     c \u001b[39m=\u001b[39m \u001b[39mgetattr\u001b[39m(\u001b[39mself\u001b[39m, c\u001b[39m.\u001b[39mname)\n\u001b[0;32m-> 1431\u001b[0m c(event)\n",
      "File \u001b[0;32m~/Library/Caches/pypoetry/virtualenvs/igviz-EetCYrty-py3.10/lib/python3.10/site-packages/plotly/basewidget.py:724\u001b[0m, in \u001b[0;36mBaseFigureWidget._handler_js2py_pointsCallback\u001b[0;34m(self, change)\u001b[0m\n\u001b[1;32m    722\u001b[0m     trace\u001b[39m.\u001b[39m_dispatch_on_click(points, state)\n\u001b[1;32m    723\u001b[0m \u001b[39melif\u001b[39;00m event_type \u001b[39m==\u001b[39m \u001b[39m\"\u001b[39m\u001b[39mplotly_hover\u001b[39m\u001b[39m\"\u001b[39m:\n\u001b[0;32m--> 724\u001b[0m     trace\u001b[39m.\u001b[39;49m_dispatch_on_hover(points, state)\n\u001b[1;32m    725\u001b[0m \u001b[39melif\u001b[39;00m event_type \u001b[39m==\u001b[39m \u001b[39m\"\u001b[39m\u001b[39mplotly_unhover\u001b[39m\u001b[39m\"\u001b[39m:\n\u001b[1;32m    726\u001b[0m     trace\u001b[39m.\u001b[39m_dispatch_on_unhover(points, state)\n",
      "File \u001b[0;32m~/Library/Caches/pypoetry/virtualenvs/igviz-EetCYrty-py3.10/lib/python3.10/site-packages/plotly/basedatatypes.py:6006\u001b[0m, in \u001b[0;36mBaseTraceType._dispatch_on_hover\u001b[0;34m(self, points, state)\u001b[0m\n\u001b[1;32m   6002\u001b[0m \u001b[39m\"\"\"\u001b[39;00m\n\u001b[1;32m   6003\u001b[0m \u001b[39mDispatch points and device state all all hover callbacks\u001b[39;00m\n\u001b[1;32m   6004\u001b[0m \u001b[39m\"\"\"\u001b[39;00m\n\u001b[1;32m   6005\u001b[0m \u001b[39mfor\u001b[39;00m callback \u001b[39min\u001b[39;00m \u001b[39mself\u001b[39m\u001b[39m.\u001b[39m_hover_callbacks:\n\u001b[0;32m-> 6006\u001b[0m     callback(\u001b[39mself\u001b[39;49m, points, state)\n",
      "File \u001b[0;32m~/plotly-graph/igviz/igviz.py:401\u001b[0m, in \u001b[0;36mPlotGraph.on_hover\u001b[0;34m(self, trace, points, input_device_state)\u001b[0m\n\u001b[1;32m    392\u001b[0m \u001b[39mdef\u001b[39;00m \u001b[39mon_hover\u001b[39m(\n\u001b[1;32m    393\u001b[0m     \u001b[39mself\u001b[39m,\n\u001b[1;32m    394\u001b[0m     trace: go\u001b[39m.\u001b[39mScatter,\n\u001b[1;32m    395\u001b[0m     points: callbacks\u001b[39m.\u001b[39mPoints,\n\u001b[1;32m    396\u001b[0m     input_device_state: callbacks\u001b[39m.\u001b[39mInputDeviceState,\n\u001b[1;32m    397\u001b[0m ):\n\u001b[1;32m    399\u001b[0m     graph: nx\u001b[39m.\u001b[39mGraph \u001b[39m=\u001b[39m \u001b[39mself\u001b[39m\u001b[39m.\u001b[39mG\n\u001b[0;32m--> 401\u001b[0m     neighbours \u001b[39m=\u001b[39m \u001b[39mlist\u001b[39m(graph\u001b[39m.\u001b[39;49mneighbors(points\u001b[39m.\u001b[39;49mpoint_inds[\u001b[39m0\u001b[39;49m]))\n\u001b[1;32m    403\u001b[0m     c \u001b[39m=\u001b[39m \u001b[39mlist\u001b[39m(trace\u001b[39m.\u001b[39mmarker\u001b[39m.\u001b[39mcolor)\n\u001b[1;32m    404\u001b[0m     s \u001b[39m=\u001b[39m \u001b[39mlist\u001b[39m(trace\u001b[39m.\u001b[39mmarker\u001b[39m.\u001b[39msize)\n",
      "File \u001b[0;32m~/Library/Caches/pypoetry/virtualenvs/igviz-EetCYrty-py3.10/lib/python3.10/site-packages/networkx/classes/digraph.py:856\u001b[0m, in \u001b[0;36mDiGraph.successors\u001b[0;34m(self, n)\u001b[0m\n\u001b[1;32m    854\u001b[0m     \u001b[39mreturn\u001b[39;00m \u001b[39miter\u001b[39m(\u001b[39mself\u001b[39m\u001b[39m.\u001b[39m_succ[n])\n\u001b[1;32m    855\u001b[0m \u001b[39mexcept\u001b[39;00m \u001b[39mKeyError\u001b[39;00m \u001b[39mas\u001b[39;00m err:\n\u001b[0;32m--> 856\u001b[0m     \u001b[39mraise\u001b[39;00m NetworkXError(\u001b[39mf\u001b[39m\u001b[39m\"\u001b[39m\u001b[39mThe node \u001b[39m\u001b[39m{\u001b[39;00mn\u001b[39m}\u001b[39;00m\u001b[39m is not in the digraph.\u001b[39m\u001b[39m\"\u001b[39m) \u001b[39mfrom\u001b[39;00m \u001b[39merr\u001b[39;00m\n",
      "\u001b[0;31mNetworkXError\u001b[0m: The node 2 is not in the digraph."
     ]
    },
    {
     "ename": "NetworkXError",
     "evalue": "The node 1 is not in the digraph.",
     "output_type": "error",
     "traceback": [
      "\u001b[0;31m---------------------------------------------------------------------------\u001b[0m",
      "\u001b[0;31mKeyError\u001b[0m                                  Traceback (most recent call last)",
      "File \u001b[0;32m~/Library/Caches/pypoetry/virtualenvs/igviz-EetCYrty-py3.10/lib/python3.10/site-packages/networkx/classes/digraph.py:854\u001b[0m, in \u001b[0;36mDiGraph.successors\u001b[0;34m(self, n)\u001b[0m\n\u001b[1;32m    853\u001b[0m \u001b[39mtry\u001b[39;00m:\n\u001b[0;32m--> 854\u001b[0m     \u001b[39mreturn\u001b[39;00m \u001b[39miter\u001b[39m(\u001b[39mself\u001b[39;49m\u001b[39m.\u001b[39;49m_succ[n])\n\u001b[1;32m    855\u001b[0m \u001b[39mexcept\u001b[39;00m \u001b[39mKeyError\u001b[39;00m \u001b[39mas\u001b[39;00m err:\n",
      "\u001b[0;31mKeyError\u001b[0m: 1",
      "\nThe above exception was the direct cause of the following exception:\n",
      "\u001b[0;31mNetworkXError\u001b[0m                             Traceback (most recent call last)",
      "File \u001b[0;32m~/Library/Caches/pypoetry/virtualenvs/igviz-EetCYrty-py3.10/lib/python3.10/site-packages/ipywidgets/widgets/widget.py:756\u001b[0m, in \u001b[0;36mWidget._handle_msg\u001b[0;34m(self, msg)\u001b[0m\n\u001b[1;32m    754\u001b[0m         \u001b[39mif\u001b[39;00m \u001b[39m'\u001b[39m\u001b[39mbuffer_paths\u001b[39m\u001b[39m'\u001b[39m \u001b[39min\u001b[39;00m data:\n\u001b[1;32m    755\u001b[0m             _put_buffers(state, data[\u001b[39m'\u001b[39m\u001b[39mbuffer_paths\u001b[39m\u001b[39m'\u001b[39m], msg[\u001b[39m'\u001b[39m\u001b[39mbuffers\u001b[39m\u001b[39m'\u001b[39m])\n\u001b[0;32m--> 756\u001b[0m         \u001b[39mself\u001b[39;49m\u001b[39m.\u001b[39;49mset_state(state)\n\u001b[1;32m    758\u001b[0m \u001b[39m# Handle a state request.\u001b[39;00m\n\u001b[1;32m    759\u001b[0m \u001b[39melif\u001b[39;00m method \u001b[39m==\u001b[39m \u001b[39m'\u001b[39m\u001b[39mrequest_state\u001b[39m\u001b[39m'\u001b[39m:\n",
      "File \u001b[0;32m~/Library/Caches/pypoetry/virtualenvs/igviz-EetCYrty-py3.10/lib/python3.10/site-packages/ipywidgets/widgets/widget.py:620\u001b[0m, in \u001b[0;36mWidget.set_state\u001b[0;34m(self, sync_data)\u001b[0m\n\u001b[1;32m    615\u001b[0m         \u001b[39mself\u001b[39m\u001b[39m.\u001b[39m_send(msg, buffers\u001b[39m=\u001b[39mecho_buffers)\n\u001b[1;32m    617\u001b[0m \u001b[39m# The order of these context managers is important. Properties must\u001b[39;00m\n\u001b[1;32m    618\u001b[0m \u001b[39m# be locked when the hold_trait_notification context manager is\u001b[39;00m\n\u001b[1;32m    619\u001b[0m \u001b[39m# released and notifications are fired.\u001b[39;00m\n\u001b[0;32m--> 620\u001b[0m \u001b[39mwith\u001b[39;00m \u001b[39mself\u001b[39m\u001b[39m.\u001b[39m_lock_property(\u001b[39m*\u001b[39m\u001b[39m*\u001b[39msync_data), \u001b[39mself\u001b[39m\u001b[39m.\u001b[39mhold_trait_notifications():\n\u001b[1;32m    621\u001b[0m     \u001b[39mfor\u001b[39;00m name \u001b[39min\u001b[39;00m sync_data:\n\u001b[1;32m    622\u001b[0m         \u001b[39mif\u001b[39;00m name \u001b[39min\u001b[39;00m \u001b[39mself\u001b[39m\u001b[39m.\u001b[39mkeys:\n",
      "File \u001b[0;32m/Library/Frameworks/Python.framework/Versions/3.10/lib/python3.10/contextlib.py:142\u001b[0m, in \u001b[0;36m_GeneratorContextManager.__exit__\u001b[0;34m(self, typ, value, traceback)\u001b[0m\n\u001b[1;32m    140\u001b[0m \u001b[39mif\u001b[39;00m typ \u001b[39mis\u001b[39;00m \u001b[39mNone\u001b[39;00m:\n\u001b[1;32m    141\u001b[0m     \u001b[39mtry\u001b[39;00m:\n\u001b[0;32m--> 142\u001b[0m         \u001b[39mnext\u001b[39;49m(\u001b[39mself\u001b[39;49m\u001b[39m.\u001b[39;49mgen)\n\u001b[1;32m    143\u001b[0m     \u001b[39mexcept\u001b[39;00m \u001b[39mStopIteration\u001b[39;00m:\n\u001b[1;32m    144\u001b[0m         \u001b[39mreturn\u001b[39;00m \u001b[39mFalse\u001b[39;00m\n",
      "File \u001b[0;32m~/Library/Caches/pypoetry/virtualenvs/igviz-EetCYrty-py3.10/lib/python3.10/site-packages/traitlets/traitlets.py:1371\u001b[0m, in \u001b[0;36mHasTraits.hold_trait_notifications\u001b[0;34m(self)\u001b[0m\n\u001b[1;32m   1369\u001b[0m \u001b[39mfor\u001b[39;00m changes \u001b[39min\u001b[39;00m cache\u001b[39m.\u001b[39mvalues():\n\u001b[1;32m   1370\u001b[0m     \u001b[39mfor\u001b[39;00m change \u001b[39min\u001b[39;00m changes:\n\u001b[0;32m-> 1371\u001b[0m         \u001b[39mself\u001b[39;49m\u001b[39m.\u001b[39;49mnotify_change(change)\n",
      "File \u001b[0;32m~/Library/Caches/pypoetry/virtualenvs/igviz-EetCYrty-py3.10/lib/python3.10/site-packages/ipywidgets/widgets/widget.py:686\u001b[0m, in \u001b[0;36mWidget.notify_change\u001b[0;34m(self, change)\u001b[0m\n\u001b[1;32m    683\u001b[0m     \u001b[39mif\u001b[39;00m name \u001b[39min\u001b[39;00m \u001b[39mself\u001b[39m\u001b[39m.\u001b[39mkeys \u001b[39mand\u001b[39;00m \u001b[39mself\u001b[39m\u001b[39m.\u001b[39m_should_send_property(name, \u001b[39mgetattr\u001b[39m(\u001b[39mself\u001b[39m, name)):\n\u001b[1;32m    684\u001b[0m         \u001b[39m# Send new state to front-end\u001b[39;00m\n\u001b[1;32m    685\u001b[0m         \u001b[39mself\u001b[39m\u001b[39m.\u001b[39msend_state(key\u001b[39m=\u001b[39mname)\n\u001b[0;32m--> 686\u001b[0m \u001b[39msuper\u001b[39;49m(Widget, \u001b[39mself\u001b[39;49m)\u001b[39m.\u001b[39;49mnotify_change(change)\n",
      "File \u001b[0;32m~/Library/Caches/pypoetry/virtualenvs/igviz-EetCYrty-py3.10/lib/python3.10/site-packages/traitlets/traitlets.py:1386\u001b[0m, in \u001b[0;36mHasTraits.notify_change\u001b[0;34m(self, change)\u001b[0m\n\u001b[1;32m   1384\u001b[0m \u001b[39mdef\u001b[39;00m \u001b[39mnotify_change\u001b[39m(\u001b[39mself\u001b[39m, change):\n\u001b[1;32m   1385\u001b[0m     \u001b[39m\"\"\"Notify observers of a change event\"\"\"\u001b[39;00m\n\u001b[0;32m-> 1386\u001b[0m     \u001b[39mreturn\u001b[39;00m \u001b[39mself\u001b[39;49m\u001b[39m.\u001b[39;49m_notify_observers(change)\n",
      "File \u001b[0;32m~/Library/Caches/pypoetry/virtualenvs/igviz-EetCYrty-py3.10/lib/python3.10/site-packages/traitlets/traitlets.py:1431\u001b[0m, in \u001b[0;36mHasTraits._notify_observers\u001b[0;34m(self, event)\u001b[0m\n\u001b[1;32m   1428\u001b[0m \u001b[39melif\u001b[39;00m \u001b[39misinstance\u001b[39m(c, EventHandler) \u001b[39mand\u001b[39;00m c\u001b[39m.\u001b[39mname \u001b[39mis\u001b[39;00m \u001b[39mnot\u001b[39;00m \u001b[39mNone\u001b[39;00m:\n\u001b[1;32m   1429\u001b[0m     c \u001b[39m=\u001b[39m \u001b[39mgetattr\u001b[39m(\u001b[39mself\u001b[39m, c\u001b[39m.\u001b[39mname)\n\u001b[0;32m-> 1431\u001b[0m c(event)\n",
      "File \u001b[0;32m~/Library/Caches/pypoetry/virtualenvs/igviz-EetCYrty-py3.10/lib/python3.10/site-packages/plotly/basewidget.py:724\u001b[0m, in \u001b[0;36mBaseFigureWidget._handler_js2py_pointsCallback\u001b[0;34m(self, change)\u001b[0m\n\u001b[1;32m    722\u001b[0m     trace\u001b[39m.\u001b[39m_dispatch_on_click(points, state)\n\u001b[1;32m    723\u001b[0m \u001b[39melif\u001b[39;00m event_type \u001b[39m==\u001b[39m \u001b[39m\"\u001b[39m\u001b[39mplotly_hover\u001b[39m\u001b[39m\"\u001b[39m:\n\u001b[0;32m--> 724\u001b[0m     trace\u001b[39m.\u001b[39;49m_dispatch_on_hover(points, state)\n\u001b[1;32m    725\u001b[0m \u001b[39melif\u001b[39;00m event_type \u001b[39m==\u001b[39m \u001b[39m\"\u001b[39m\u001b[39mplotly_unhover\u001b[39m\u001b[39m\"\u001b[39m:\n\u001b[1;32m    726\u001b[0m     trace\u001b[39m.\u001b[39m_dispatch_on_unhover(points, state)\n",
      "File \u001b[0;32m~/Library/Caches/pypoetry/virtualenvs/igviz-EetCYrty-py3.10/lib/python3.10/site-packages/plotly/basedatatypes.py:6006\u001b[0m, in \u001b[0;36mBaseTraceType._dispatch_on_hover\u001b[0;34m(self, points, state)\u001b[0m\n\u001b[1;32m   6002\u001b[0m \u001b[39m\"\"\"\u001b[39;00m\n\u001b[1;32m   6003\u001b[0m \u001b[39mDispatch points and device state all all hover callbacks\u001b[39;00m\n\u001b[1;32m   6004\u001b[0m \u001b[39m\"\"\"\u001b[39;00m\n\u001b[1;32m   6005\u001b[0m \u001b[39mfor\u001b[39;00m callback \u001b[39min\u001b[39;00m \u001b[39mself\u001b[39m\u001b[39m.\u001b[39m_hover_callbacks:\n\u001b[0;32m-> 6006\u001b[0m     callback(\u001b[39mself\u001b[39;49m, points, state)\n",
      "File \u001b[0;32m~/plotly-graph/igviz/igviz.py:401\u001b[0m, in \u001b[0;36mPlotGraph.on_hover\u001b[0;34m(self, trace, points, input_device_state)\u001b[0m\n\u001b[1;32m    392\u001b[0m \u001b[39mdef\u001b[39;00m \u001b[39mon_hover\u001b[39m(\n\u001b[1;32m    393\u001b[0m     \u001b[39mself\u001b[39m,\n\u001b[1;32m    394\u001b[0m     trace: go\u001b[39m.\u001b[39mScatter,\n\u001b[1;32m    395\u001b[0m     points: callbacks\u001b[39m.\u001b[39mPoints,\n\u001b[1;32m    396\u001b[0m     input_device_state: callbacks\u001b[39m.\u001b[39mInputDeviceState,\n\u001b[1;32m    397\u001b[0m ):\n\u001b[1;32m    399\u001b[0m     graph: nx\u001b[39m.\u001b[39mGraph \u001b[39m=\u001b[39m \u001b[39mself\u001b[39m\u001b[39m.\u001b[39mG\n\u001b[0;32m--> 401\u001b[0m     neighbours \u001b[39m=\u001b[39m \u001b[39mlist\u001b[39m(graph\u001b[39m.\u001b[39;49mneighbors(points\u001b[39m.\u001b[39;49mpoint_inds[\u001b[39m0\u001b[39;49m]))\n\u001b[1;32m    403\u001b[0m     c \u001b[39m=\u001b[39m \u001b[39mlist\u001b[39m(trace\u001b[39m.\u001b[39mmarker\u001b[39m.\u001b[39mcolor)\n\u001b[1;32m    404\u001b[0m     s \u001b[39m=\u001b[39m \u001b[39mlist\u001b[39m(trace\u001b[39m.\u001b[39mmarker\u001b[39m.\u001b[39msize)\n",
      "File \u001b[0;32m~/Library/Caches/pypoetry/virtualenvs/igviz-EetCYrty-py3.10/lib/python3.10/site-packages/networkx/classes/digraph.py:856\u001b[0m, in \u001b[0;36mDiGraph.successors\u001b[0;34m(self, n)\u001b[0m\n\u001b[1;32m    854\u001b[0m     \u001b[39mreturn\u001b[39;00m \u001b[39miter\u001b[39m(\u001b[39mself\u001b[39m\u001b[39m.\u001b[39m_succ[n])\n\u001b[1;32m    855\u001b[0m \u001b[39mexcept\u001b[39;00m \u001b[39mKeyError\u001b[39;00m \u001b[39mas\u001b[39;00m err:\n\u001b[0;32m--> 856\u001b[0m     \u001b[39mraise\u001b[39;00m NetworkXError(\u001b[39mf\u001b[39m\u001b[39m\"\u001b[39m\u001b[39mThe node \u001b[39m\u001b[39m{\u001b[39;00mn\u001b[39m}\u001b[39;00m\u001b[39m is not in the digraph.\u001b[39m\u001b[39m\"\u001b[39m) \u001b[39mfrom\u001b[39;00m \u001b[39merr\u001b[39;00m\n",
      "\u001b[0;31mNetworkXError\u001b[0m: The node 1 is not in the digraph."
     ]
    }
   ],
   "source": [
    "ig.plot(DG, size_method=\"static\")"
   ]
  },
  {
   "cell_type": "code",
   "execution_count": null,
   "metadata": {},
   "outputs": [],
   "source": []
  }
 ],
 "metadata": {
  "kernelspec": {
   "display_name": "Python 3.10.6 ('igviz-EetCYrty-py3.10')",
   "language": "python",
   "name": "python3"
  },
  "language_info": {
   "codemirror_mode": {
    "name": "ipython",
    "version": 3
   },
   "file_extension": ".py",
   "mimetype": "text/x-python",
   "name": "python",
   "nbconvert_exporter": "python",
   "pygments_lexer": "ipython3",
   "version": "3.10.6"
  },
  "vscode": {
   "interpreter": {
    "hash": "f78b8d2354e446a3fbd21efd0467c217c8ad305176f08b264011e910065d3468"
   }
  }
 },
 "nbformat": 4,
 "nbformat_minor": 4
}
